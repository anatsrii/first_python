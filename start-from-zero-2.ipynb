{
 "cells": [
  {
   "cell_type": "code",
   "execution_count": null,
   "metadata": {},
   "outputs": [],
   "source": [
    " Basic string & operations\r\n",
    "s = \"Hello\" ; t = \"Python\"\r\n",
    "x = [1,3,5,7]; y = [5,6,7,8]\r\n",
    "r = s + t\r\n",
    "z = x + y\r\n",
    "a = [0,1,2,3,4,5,6,7,8,9]\r\n",
    "#length\r\n",
    "print(len(s), len(r), len(x), len(z))\r\n",
    "output = 5 11 4 8"
   ]
  },
  {
   "cell_type": "code",
   "execution_count": null,
   "metadata": {},
   "outputs": [],
   "source": [
    "#index\r\n",
    "print(s[3], x[2])\r\n",
    "ถ้าค่าติดลบ -1 จะเริ่มจากขวาสุดมา เช่น\r\n",
    "print(s[-1], s[-2], s[-3], s[-4],s[-5])\r\n",
    "output = o l l e H"
   ]
  },
  {
   "cell_type": "code",
   "execution_count": null,
   "metadata": {},
   "outputs": [],
   "source": [
    "#slice\r\n",
    "print(s[0:3:1]) # หมายความว่า ต้องการ s ตั้งแต่ 0 ถึง ก่อน 3 โดยเพิ่มทีละ 1\r\n",
    "                # ความหมาย s[start:stop:step]\r\n",
    "output = Hell\r\n",
    "\r\n",
    "print(s[-1:-6:-1])\r\n",
    "output = olleH\r\n",
    "\r\n",
    "a = [0,1,2,3,4,5,6,7,8,9]\r\n",
    "print(a[::])\r\n",
    "output = [0, 1, 2, 3, 4, 5, 6, 7, 8, 9]\r\n",
    "\r\n",
    "print(a[1::])\r\n",
    "output = [1, 2, 3, 4, 5, 6, 7, 8, 9]\r\n",
    "\r\n",
    "print(a[::2])\r\n",
    "output = [0, 2, 4, 6, 8]\r\n",
    "\r\n",
    "print(a[::-1])\r\n",
    "[9, 8, 7, 6, 5, 4, 3, 2, 1, 0]\r\n",
    "\r\n",
    "สรุป list สามารถแก้ไขค่าได้ แต่สตริงไม่สามารถแก้ไขได้"
   ]
  },
  {
   "cell_type": "code",
   "execution_count": null,
   "metadata": {},
   "outputs": [],
   "source": [
    "split แยก string ออกเป็น list\r\n",
    "f = \" 2  3 88 989 \"\r\n",
    "newf = f.split()\r\n",
    "print(newf) # ['2', '3', '88', '989']\r\n",
    "\r\n",
    "f = \" 2  3 88 989 \"\r\n",
    "newf = f.split(,)\r\n",
    "print(newf) #\r\n",
    "\r\n",
    "a = input()\r\n",
    "b = a.split(\",\")\r\n",
    "stu_id = b[0]\r\n",
    "point1 = int(b[1])\r\n",
    "point2 = int(b[2])\r\n",
    "point3 = int(b[3])\r\n",
    "total_point = (point1 + point2 + point3)\r\n",
    "print(\"student id\", stu_id, \"have point\", total_point)\r\n",
    "#output = student id 12345 have point 90\r\n"
   ]
  },
  {
   "cell_type": "code",
   "execution_count": null,
   "metadata": {},
   "outputs": [],
   "source": [
    "if - else\r\n",
    "Ref:https://www.youtube.com/watch?v=pqptG8aLMEA&list=PL0ROnaCzUGB4RNc3k0LS1FSA80IjRKW7F&index=17\r\n"
   ]
  }
 ],
 "metadata": {
  "interpreter": {
   "hash": "9055a4944e7f52dcc02a3b5673e57cc8c6a212b59c0b02ef74af5aa407658ac5"
  },
  "kernelspec": {
   "display_name": "Python 3.8.8 64-bit ('base': conda)",
   "name": "python3"
  },
  "language_info": {
   "name": "python",
   "version": ""
  },
  "orig_nbformat": 4
 },
 "nbformat": 4,
 "nbformat_minor": 2
}